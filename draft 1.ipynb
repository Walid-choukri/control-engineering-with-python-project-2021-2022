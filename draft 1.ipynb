{
  "cells": [
    {
      "cell_type": "code",
      "execution_count": 1,
      "metadata": {
        "id": "xo4dvAeqAnJv"
      },
      "outputs": [],
      "source": [
        "import numpy as np\n",
        "from numpy.linalg import *\n",
        "\n",
        "import math\n",
        "\n",
        "from scipy.integrate import *\n",
        "from scipy.signal import *\n",
        "\n",
        "import matplotlib.pyplot as plt"
      ]
    },
    {
      "cell_type": "markdown",
      "metadata": {
        "id": "7ODN8JYrAnJ1"
      },
      "source": [
        "Chariot Model\n",
        "==============\n",
        "\n",
        "We consider a mobile robot of \"chariot\" type, evolving in the plane.\n",
        "\n",
        "  - From above, its frame appears to be a disk of diameter $D$. \n",
        "  \n",
        "  - It has two fixed wheels (their orientation with respect to the frame does not change; there is no need for a steering wheel!). They are parallel and located at opposite ends of the frame (hence separated by a distance of $D$) ; these wheels have the common radius $R$.\n",
        "\n",
        "  - The robot is symmetric with respect to the axis that joins the two wheels. For convenience, a green sticker is attached at the boundary of the frame on one side of this axis, on the robot axis of symmetry ; this side will is called the \"front\" of the robot, the point itself is called the \"nose\" of the robot. When we talk about the \"left wheel\" or the \"right wheel\", we assume that we are looking towards the front of the robot.\n",
        "\n",
        "We will denote \n",
        "\n",
        "  - $(x, y)$ the coordinates of the wheel axis in the orthonormal and direct frame $(0, e_x, e_y)$ of the plane.\n",
        "  \n",
        "  - $\\theta$ the angle of the wheels direction with respect to vector $e_x$ ; with $\\theta = 0$ when the front of the robot faces the right ($e_x$) and $\\theta = \\pi/2$ when he faces upwards ($e_y$).\n",
        "\n",
        "  - $\\phi_l$ and $\\phi_r$ the rotation angles of the left and right wheel respectively ; by convention, when these angles increase, the robot moves forward."
      ]
    },
    {
      "cell_type": "markdown",
      "metadata": {
        "id": "kY-WbOhxAnJ5"
      },
      "source": [
        "### Parameter Definition\n",
        "\n",
        "\n",
        "From now on, we assume that the frame diameter is $D = 1 \\mbox{ m}$ and the wheel radius is $R = 10 \\mbox{ cm}$.\n",
        "\n",
        "🧩 Define the corresponding Python variables `D` and `R` (express every length in meters, and more generally in the sequel, always use the [international standard of units](https://en.wikipedia.org/wiki/SI_derived_unit)) for numerical values. "
      ]
    },
    {
      "cell_type": "code",
      "execution_count": 2,
      "metadata": {
        "id": "neLmRsBuAnJ6"
      },
      "outputs": [],
      "source": [
        "D = 1\n",
        "R = 0.1"
      ]
    },
    {
      "cell_type": "markdown",
      "metadata": {
        "id": "QEAfcDuvAnJ8"
      },
      "source": [
        "### Graphical Representation\n",
        "\n",
        "🧩 Implement a function `draw_robot` with arguments `x`, `y` and `theta` that draws the robot in the plane (top view) for arbitrary values of $(x, y)$ and $\\theta$. Represent the robot frame as a circle, the wheels as lines and the nose as an orange point.\n",
        "\n",
        "🗝️ **Hint.** Use the function `plot` of `matplotlib.pyplot`."
      ]
    },
    {
      "cell_type": "markdown",
      "metadata": {
        "id": "_ySj5OAnAnJ-"
      },
      "source": [
        "🧩 Represent the robot in when $(x, y, \\theta) = (0, 0, 0), (2, 2, \\pi/2), (0, 4, -\\pi), (-4, 4, -\\pi), (-8, 4, -\\pi)$.\n",
        "\n",
        "🗝️ **Hint.** Use the following `draw_arena` function beforehand."
      ]
    },
    {
      "cell_type": "code",
      "execution_count": 8,
      "metadata": {
        "id": "E5YwQJb5AnJ_"
      },
      "outputs": [],
      "source": [
        "def draw_arena(xmin, xmax, ymin, ymax):\n",
        "    wh_ratio = (xmax - xmin) / (ymax - ymin)\n",
        "    figsize = fig_width, fig_height = 16, 16 / wh_ratio\n",
        "    plt.figure(figsize=figsize)\n",
        "    axes = plt.gca()\n",
        "    axes.axis([xmin, xmax, ymin, ymax])\n",
        "    axes.set_aspect(1)\n",
        "    plt.xticks(np.arange(xmin, xmax+1, 1))\n",
        "    plt.yticks(np.arange(ymin, ymax+1, 1))\n",
        "    plt.grid(True)\n",
        "    plt.plot([xmin, xmax], [0, 0],linewidth=4, linestyle=\"-\", color=\"grey\")\n",
        "    plt.plot([0, 0], [ymin, ymax],linewidth=4, linestyle=\"-\", color=\"grey\")"
      ]
    },
    {
      "cell_type": "code",
      "execution_count": 9,
      "metadata": {
        "id": "vc72thoQAnJ9"
      },
      "outputs": [],
      "source": [
        "def draw_robot(a):\n",
        "    maxX = max(a, key=lambda x:x['x'])[\"x\"]+D\n",
        "    minX = min(a, key=lambda x:x['x'])[\"x\"]-D\n",
        "    maxY = max(a, key=lambda x:x['y'])[\"y\"]+D\n",
        "    minY = min(a, key=lambda x:x['y'])[\"y\"]-D\n",
        "    draw_arena(minX, maxX, minY, maxY)\n",
        "    for i in a:\n",
        "\n",
        "        x0=i[\"x\"]\n",
        "        y0=i[\"y\"]\n",
        "\n",
        "        tetha=i[\"angle\"]\n",
        "\n",
        "        xr0=[np.cos(tetha)*D/2+x0] \n",
        "        yr0=[np.sin(tetha)*D/2+y0]\n",
        "\n",
        "        xl0=[-np.cos(tetha)*D/2+x0] \n",
        "        yl0=[-np.sin(tetha)*D/2+y0]\n",
        "\n",
        "        xr1=[np.cos(tetha)*D/2+np.sin(tetha)*R+x0] \n",
        "        yr1=[np.sin(tetha)*D/2-np.cos(tetha)*R+y0]\n",
        "\n",
        "        xr2=[np.cos(tetha)*D/2-np.sin(tetha)*R+x0] \n",
        "        yr2=[np.sin(tetha)*D/2+np.cos(tetha)*R+y0]\n",
        "\n",
        "\n",
        "        xl1=[-np.cos(tetha)*D/2-np.sin(tetha)*R+x0] \n",
        "        yl1=[-np.sin(tetha)*D/2+np.cos(tetha)*R+y0]\n",
        "\n",
        "        xl2=[-np.cos(tetha)*D/2+np.sin(tetha)*R+x0] \n",
        "        yl2=[-np.sin(tetha)*D/2-np.cos(tetha)*R+y0]\n",
        "\n",
        "        l=[xl1+xl2,yl1+yl2]\n",
        "\n",
        "        plt.plot(x0,y0, color = 'black', marker = 'o')\n",
        "\n",
        "        plt.gca().annotate(\"(\"+str(x0)+\" ; \"+str(y0)+\")\", xy=(x0+D/2, y0+D/2), xycoords='data', fontsize=10)\n",
        "\n",
        "        #draw a circle\n",
        "        angles = np.linspace(0 * np.pi, 2 * np.pi, 100 )\n",
        "        xs = D/2*np.cos(angles)+x0\n",
        "        ys = D/2*np.sin(angles)+y0\n",
        "        plt.plot(xs, ys, color = 'green')\n",
        "\n",
        "\n",
        "        ynose=[np.cos(tetha)*D/2+y0]\n",
        "        xnose=[-1*np.sin(tetha)*D/2+x0]\n",
        "\n",
        "        plt.plot(xnose, ynose,color = 'purple', marker = 'o')\n",
        "        \n",
        "        plt.plot(xl1+xl2,yl1+yl2,color = 'red',linewidth=5)\n",
        "        plt.plot(xl0,yl0,color = 'red', marker = 'o')\n",
        "\n",
        "        plt.plot(xr1+xr2,yr1+yr2,color = 'blue',linewidth=5)\n",
        "        plt.plot(xr0,yr0, color = 'blue', marker = 'o')\n",
        "    \n",
        "    plt.gca().set_aspect('equal')\n",
        "    plt.show()"
      ]
    },
    {
      "cell_type": "code",
      "execution_count": 10,
      "metadata": {
        "id": "X14cK9ygAnKA",
        "outputId": "cc191983-8c4f-4e16-f2aa-ce842a8666ef",
        "colab": {
          "base_uri": "https://localhost:8080/",
          "height": 487
        }
      },
      "outputs": [
        {
          "output_type": "display_data",
          "data": {
            "text/plain": [
              "<Figure size 1152x576 with 1 Axes>"
            ],
            "image/png": "[encoded data removed]"
          },
          "metadata": {
            "needs_background": "light"
          }
        }
      ],
      "source": [
        "test = [\n",
        " {\"x\": 0, \"y\": 0, \"angle\": 0},\n",
        " {\"x\": 2, \"y\": 2, \"angle\": math.pi/2},\n",
        " {\"x\": 0, \"y\": 4, \"angle\": -math.pi},\n",
        " {\"x\": -4, \"y\": 4, \"angle\": -math.pi},\n",
        " {\"x\": -8, \"y\": 4, \"angle\": -math.pi},\n",
        "]\n",
        "draw_robot(test)"
      ]
    },
    {
      "cell_type": "markdown",
      "metadata": {
        "id": "fKXeSTZrAnKC"
      },
      "source": [
        "### Kinematic Modeling\n",
        "\n",
        "We assume that we can control the wheels angular velocities $\\omega_l = \\dot{\\phi}_l$ and $\\omega_r = \\dot{\\phi}_r$ (this is a *kinematic* model of the robot).\n",
        "We also assume that the chariot wheels roll without slipping. \n",
        "\n",
        "🧩 Establish the differential equations that relate $\\dot{x}$,\n",
        "$\\dot{y}$ and $\\dot{\\theta}$ with $\\omega_l$ and $\\omega_r$."
      ]
    },
    {
      "cell_type": "markdown",
      "metadata": {
        "id": "m0YykmUfAnKD"
      },
      "source": [
        "**Answer:**"
      ]
    },
    {
      "cell_type": "markdown",
      "metadata": {
        "id": "W3muwKQjAnKE"
      },
      "source": [
        "### Analysis\n",
        "\n",
        "🧩 Show that if $\\omega_l$ and $\\omega_r$ are continuously differentiable functions of $(x, y, \\theta)$ (which includes the case of constant inputs), this system is well-posed."
      ]
    },
    {
      "cell_type": "markdown",
      "metadata": {
        "id": "2LkuP58iAnKE"
      },
      "source": [
        "**Answer:**"
      ]
    },
    {
      "cell_type": "markdown",
      "metadata": {
        "id": "URiyXVJCAnKF"
      },
      "source": [
        "🧩 Show that if $\\omega_l$ and $\\omega_r$ are constants, the maximal solution associated to any initial state is global. Is is still true of $\\omega_l$ and $\\omega_r$ are arbitrary continuously differentiable functions of $(x, y, \\theta)$ ?"
      ]
    },
    {
      "cell_type": "markdown",
      "metadata": {
        "id": "3wycNAu8AnKF"
      },
      "source": [
        "**Answer:**"
      ]
    },
    {
      "cell_type": "markdown",
      "metadata": {
        "id": "AtbhB81GAnKG"
      },
      "source": [
        "### Vector Field\n",
        "\n",
        "In the sequel, `omega` is a function that computes the input vector $\\omega := (\\omega_l, \\omega_r)$ given the time $t$ and $(x, y, \\theta)$ (thus, it may depend on the time and/or on the system state if needed). For example:"
      ]
    },
    {
      "cell_type": "code",
      "execution_count": null,
      "metadata": {
        "id": "zzIZHCGmAnKG"
      },
      "outputs": [],
      "source": [
        "def omega(t, xytheta):\n",
        "    omega_l = 7.5 * pi\n",
        "    omega_r = 12.5 * pi\n",
        "    return array([omega_l, omega_r])"
      ]
    },
    {
      "cell_type": "markdown",
      "metadata": {
        "id": "NLjAwuZZAnKG"
      },
      "source": [
        "🧩 Implement a function `fun(t, xytheta)` that computes $(\\dot{x}, \\dot{y}, \\dot{\\theta})$ given the time $t$, $(x,y,\\theta)$ (and  -- implicitly -- the inputs $\\omega$ computed by the function `omega`)."
      ]
    },
    {
      "cell_type": "code",
      "execution_count": null,
      "metadata": {
        "id": "UxuZB2DJAnKH"
      },
      "outputs": [],
      "source": [
        "def fun(t, xytheta):\n",
        "    pass"
      ]
    },
    {
      "cell_type": "markdown",
      "metadata": {
        "id": "daTWh5YuAnKH"
      },
      "source": [
        "### Simulation Setup\n",
        "\n",
        "🧩 Simulate the robot dynamics for 4 seconds when $(x_0, y_0, \\theta_0)(t=0) = (0.0, 0.0, 0.0)$,\n",
        "and the wheels velocities are the constants $\\omega_l = 7.5 \\pi$ and $\\omega_r = 12.5 \\pi$.\n",
        "(Compute the dense outputs.)\n",
        "   "
      ]
    },
    {
      "cell_type": "code",
      "execution_count": null,
      "metadata": {
        "id": "JX0eOUNBAnKI"
      },
      "outputs": [],
      "source": [
        "pass"
      ]
    },
    {
      "cell_type": "markdown",
      "metadata": {
        "id": "oVcIECqBAnKI"
      },
      "source": [
        "🧩 Use the simulation results to draw the graphs of $x(t)$, $y(t)$ and $\\theta(t)$."
      ]
    },
    {
      "cell_type": "code",
      "execution_count": null,
      "metadata": {
        "id": "SvmH9JprAnKI"
      },
      "outputs": [],
      "source": [
        "pass"
      ]
    },
    {
      "cell_type": "markdown",
      "metadata": {
        "id": "uN7jv-kcAnKJ"
      },
      "source": [
        "🧩 Use the simulation results to display the robot location every 0.5 second."
      ]
    },
    {
      "cell_type": "code",
      "execution_count": null,
      "metadata": {
        "id": "jzfn42PdAnKJ"
      },
      "outputs": [],
      "source": [
        "pass"
      ]
    },
    {
      "cell_type": "markdown",
      "metadata": {
        "id": "OfCiAlI3AnKK"
      },
      "source": [
        "🧩 What should be the analytical expression of $x(t)$, $y(t)$ and $\\theta(t)$? "
      ]
    },
    {
      "cell_type": "markdown",
      "metadata": {
        "id": "IpxHSEZDAnKK"
      },
      "source": [
        "**Answer:**"
      ]
    },
    {
      "cell_type": "markdown",
      "metadata": {
        "id": "K6LOh8t9AnKL"
      },
      "source": [
        "🧩 Do your experimental results match the theoretical results ? Draw the curves of the simulation error at time $t$ for $x$, $y$ and $\\theta$."
      ]
    },
    {
      "cell_type": "code",
      "execution_count": null,
      "metadata": {
        "id": "eD5KsBv_AnKL"
      },
      "outputs": [],
      "source": [
        "pass"
      ]
    },
    {
      "cell_type": "markdown",
      "metadata": {
        "id": "efOeL6b4AnKL"
      },
      "source": [
        "🧩 If needed, adjust the simulation parameters until this error is uniformly less than $1e-5$ for each variable."
      ]
    },
    {
      "cell_type": "code",
      "execution_count": null,
      "metadata": {
        "id": "P5z2a3rTAnKL"
      },
      "outputs": [],
      "source": [
        "pass"
      ]
    }
  ],
  "metadata": {
    "kernelspec": {
      "display_name": "Python 3 (ipykernel)",
      "language": "python",
      "name": "python3"
    },
    "language_info": {
      "codemirror_mode": {
        "name": "ipython",
        "version": 3
      },
      "file_extension": ".py",
      "mimetype": "text/x-python",
      "name": "python",
      "nbconvert_exporter": "python",
      "pygments_lexer": "ipython3",
      "version": "3.9.10"
    },
    "colab": {
      "name": "Project - Step 1.ipynb",
      "provenance": []
    }
  },
  "nbformat": 4,
  "nbformat_minor": 0
}