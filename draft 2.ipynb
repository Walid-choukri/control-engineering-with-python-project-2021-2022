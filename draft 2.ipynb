{
  "cells": [
    {
      "cell_type": "code",
      "execution_count": 35,
      "metadata": {
        "id": "xo4dvAeqAnJv"
      },
      "outputs": [],
      "source": [
        "import numpy as np\n",
        "from numpy.linalg import *\n",
        "\n",
        "import math\n",
        "\n",
        "from scipy.integrate import *\n",
        "from scipy.signal import *\n",
        "\n",
        "import matplotlib.pyplot as plt\n",
        "from scipy.integrate import solve_ivp\n"
      ]
    },
    {
      "cell_type": "markdown",
      "metadata": {
        "id": "7ODN8JYrAnJ1"
      },
      "source": [
        "Chariot Model\n",
        "==============\n",
        "\n",
        "We consider a mobile robot of \"chariot\" type, evolving in the plane.\n",
        "\n",
        "  - From above, its frame appears to be a disk of diameter $D$. \n",
        "  \n",
        "  - It has two fixed wheels (their orientation with respect to the frame does not change; there is no need for a steering wheel!). They are parallel and located at opposite ends of the frame (hence separated by a distance of $D$) ; these wheels have the common radius $R$.\n",
        "\n",
        "  - The robot is symmetric with respect to the axis that joins the two wheels. For convenience, a green sticker is attached at the boundary of the frame on one side of this axis, on the robot axis of symmetry ; this side will is called the \"front\" of the robot, the point itself is called the \"nose\" of the robot. When we talk about the \"left wheel\" or the \"right wheel\", we assume that we are looking towards the front of the robot.\n",
        "\n",
        "We will denote \n",
        "\n",
        "  - $(x, y)$ the coordinates of the wheel axis in the orthonormal and direct frame $(0, e_x, e_y)$ of the plane.\n",
        "  \n",
        "  - $\\theta$ the angle of the wheels direction with respect to vector $e_x$ ; with $\\theta = 0$ when the front of the robot faces the right ($e_x$) and $\\theta = \\pi/2$ when he faces upwards ($e_y$).\n",
        "\n",
        "  - $\\phi_l$ and $\\phi_r$ the rotation angles of the left and right wheel respectively ; by convention, when these angles increase, the robot moves forward."
      ]
    },
    {
      "cell_type": "markdown",
      "metadata": {
        "id": "kY-WbOhxAnJ5"
      },
      "source": [
        "### Parameter Definition\n",
        "\n",
        "\n",
        "From now on, we assume that the frame diameter is $D = 1 \\mbox{ m}$ and the wheel radius is $R = 10 \\mbox{ cm}$.\n",
        "\n",
        "🧩 Define the corresponding Python variables `D` and `R` (express every length in meters, and more generally in the sequel, always use the [international standard of units](https://en.wikipedia.org/wiki/SI_derived_unit)) for numerical values. "
      ]
    },
    {
      "cell_type": "code",
      "execution_count": 11,
      "metadata": {
        "id": "neLmRsBuAnJ6"
      },
      "outputs": [],
      "source": [
        "D = 1\n",
        "R = 0.1"
      ]
    },
    {
      "cell_type": "markdown",
      "metadata": {
        "id": "QEAfcDuvAnJ8"
      },
      "source": [
        "### Graphical Representation\n",
        "\n",
        "🧩 Implement a function `draw_robot` with arguments `x`, `y` and `theta` that draws the robot in the plane (top view) for arbitrary values of $(x, y)$ and $\\theta$. Represent the robot frame as a circle, the wheels as lines and the nose as an orange point.\n",
        "\n",
        "🗝️ **Hint.** Use the function `plot` of `matplotlib.pyplot`."
      ]
    },
    {
      "cell_type": "markdown",
      "metadata": {
        "id": "_ySj5OAnAnJ-"
      },
      "source": [
        "🧩 Represent the robot in when $(x, y, \\theta) = (0, 0, 0), (2, 2, \\pi/2), (0, 4, -\\pi), (-4, 4, -\\pi), (-8, 4, -\\pi)$.\n",
        "\n",
        "🗝️ **Hint.** Use the following `draw_arena` function beforehand."
      ]
    },
    {
      "cell_type": "code",
      "execution_count": 12,
      "metadata": {
        "id": "E5YwQJb5AnJ_"
      },
      "outputs": [],
      "source": [
        "def draw_arena(xmin, xmax, ymin, ymax):\n",
        "    wh_ratio = (xmax - xmin) / (ymax - ymin)\n",
        "    figsize = fig_width, fig_height = 16, 16 / wh_ratio\n",
        "    plt.figure(figsize=figsize)\n",
        "    axes = plt.gca()\n",
        "    axes.axis([xmin, xmax, ymin, ymax])\n",
        "    axes.set_aspect(1)\n",
        "    plt.xticks(np.arange(xmin, xmax+1, 1))\n",
        "    plt.yticks(np.arange(ymin, ymax+1, 1))\n",
        "    plt.grid(True)\n",
        "    plt.plot([xmin, xmax], [0, 0],linewidth=4, linestyle=\"-\", color=\"grey\")\n",
        "    plt.plot([0, 0], [ymin, ymax],linewidth=4, linestyle=\"-\", color=\"grey\")"
      ]
    },
    {
      "cell_type": "code",
      "execution_count": 13,
      "metadata": {
        "id": "vc72thoQAnJ9"
      },
      "outputs": [],
      "source": [
        "def draw_robot(a):\n",
        "    maxX = max(a, key=lambda x:x['x'])[\"x\"]+D\n",
        "    minX = min(a, key=lambda x:x['x'])[\"x\"]-D\n",
        "    maxY = max(a, key=lambda x:x['y'])[\"y\"]+D\n",
        "    minY = min(a, key=lambda x:x['y'])[\"y\"]-D\n",
        "    draw_arena(minX, maxX, minY, maxY)\n",
        "    for i in a:\n",
        "\n",
        "        x0=i[\"x\"]\n",
        "        y0=i[\"y\"]\n",
        "\n",
        "        tetha=i[\"angle\"]-math.pi/2\n",
        "\n",
        "        xr0=[np.cos(tetha)*D/2+x0] \n",
        "        yr0=[np.sin(tetha)*D/2+y0]\n",
        "\n",
        "        xl0=[-np.cos(tetha)*D/2+x0] \n",
        "        yl0=[-np.sin(tetha)*D/2+y0]\n",
        "\n",
        "        xr1=[np.cos(tetha)*D/2+np.sin(tetha)*R+x0] \n",
        "        yr1=[np.sin(tetha)*D/2-np.cos(tetha)*R+y0]\n",
        "\n",
        "        xr2=[np.cos(tetha)*D/2-np.sin(tetha)*R+x0] \n",
        "        yr2=[np.sin(tetha)*D/2+np.cos(tetha)*R+y0]\n",
        "\n",
        "\n",
        "        xl1=[-np.cos(tetha)*D/2-np.sin(tetha)*R+x0] \n",
        "        yl1=[-np.sin(tetha)*D/2+np.cos(tetha)*R+y0]\n",
        "\n",
        "        xl2=[-np.cos(tetha)*D/2+np.sin(tetha)*R+x0] \n",
        "        yl2=[-np.sin(tetha)*D/2-np.cos(tetha)*R+y0]\n",
        "\n",
        "        plt.plot(x0,y0, color = 'black', marker = 'o')\n",
        "\n",
        "        plt.gca().annotate(\"(\"+str(x0)+\" ; \"+str(y0)+\")\", xy=(x0+D/2, y0+D/2), xycoords='data', fontsize=10)\n",
        "\n",
        "        #draw a circle\n",
        "        angles = np.linspace(0 * np.pi, 2 * np.pi, 100)\n",
        "        xs = D/2*np.cos(angles)+x0\n",
        "        ys = D/2*np.sin(angles)+y0\n",
        "        plt.plot(xs, ys, color = 'green')\n",
        "\n",
        "        ynose=[np.cos(tetha)*D/2+y0]\n",
        "        xnose=[-1*np.sin(tetha)*D/2+x0]\n",
        "\n",
        "        plt.plot(xnose, ynose,color = 'purple', marker = 'o')\n",
        "        \n",
        "        plt.plot(xl1+xl2,yl1+yl2,color = 'red',linewidth=5)\n",
        "        plt.plot(xl0,yl0,color = 'red', marker = 'o')\n",
        "\n",
        "        plt.plot(xr1+xr2,yr1+yr2,color = 'blue',linewidth=5)\n",
        "        plt.plot(xr0,yr0, color = 'blue', marker = 'o')\n",
        "    \n",
        "    plt.gca().set_aspect('equal')\n",
        "    plt.show()"
      ]
    },
    {
      "cell_type": "code",
      "execution_count": 14,
      "metadata": {
        "id": "X14cK9ygAnKA",
        "outputId": "8229148c-dbe7-43eb-f295-109a7052d2ee",
        "colab": {
          "base_uri": "https://localhost:8080/",
          "height": 487
        }
      },
      "outputs": [
        {
          "output_type": "display_data",
          "data": {
            "text/plain": [
              "<Figure size 1152x576 with 1 Axes>"
            ],
            "image/png": "[encoded data removed]"
          },
          "metadata": {
            "needs_background": "light"
          }
        }
      ],
      "source": [
        "test = [\n",
        " {\"x\": 0, \"y\": 0, \"angle\": 0},\n",
        " {\"x\": 2, \"y\": 2, \"angle\": math.pi/2},\n",
        " {\"x\": 0, \"y\": 4, \"angle\": -math.pi},\n",
        " {\"x\": -4, \"y\": 4, \"angle\": -math.pi},\n",
        " {\"x\": -8, \"y\": 4, \"angle\": -math.pi},\n",
        "]\n",
        "draw_robot(test)"
      ]
    },
    {
      "cell_type": "markdown",
      "metadata": {
        "id": "fKXeSTZrAnKC"
      },
      "source": [
        "### Kinematic Modeling\n",
        "\n",
        "We assume that we can control the wheels angular velocities $\\omega_l = \\dot{\\phi}_l$ and $\\omega_r = \\dot{\\phi}_r$ (this is a *kinematic* model of the robot).\n",
        "We also assume that the chariot wheels roll without slipping. \n",
        "\n",
        "🧩 Establish the differential equations that relate $\\dot{x}$,\n",
        "$\\dot{y}$ and $\\dot{\\theta}$ with $\\omega_l$ and $\\omega_r$."
      ]
    },
    {
      "cell_type": "markdown",
      "metadata": {
        "id": "m0YykmUfAnKD"
      },
      "source": [
        "**Answer:**"
      ]
    },
    {
      "cell_type": "markdown",
      "source": [
        "![Capture.PNG](data:image/png;base64,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)"
      ],
      "metadata": {
        "id": "2JQgKdtTxsPN"
      }
    },
    {
      "cell_type": "markdown",
      "metadata": {
        "id": "W3muwKQjAnKE"
      },
      "source": [
        "### Analysis\n",
        "\n",
        "🧩 Show that if $\\omega_l$ and $\\omega_r$ are continuously differentiable functions of $(x, y, \\theta)$ (which includes the case of constant inputs), this system is well-posed."
      ]
    },
    {
      "cell_type": "markdown",
      "metadata": {
        "id": "2LkuP58iAnKE"
      },
      "source": [
        "**Answer:**"
      ]
    },
    {
      "cell_type": "markdown",
      "source": [
        "X=f(x) f continue donc l'existance\n",
        "df/dX exist et continue donc unicite de solution maximale et la continuite du systeme"
      ],
      "metadata": {
        "id": "zJ24EqEoPRzE"
      }
    },
    {
      "cell_type": "markdown",
      "metadata": {
        "id": "URiyXVJCAnKF"
      },
      "source": [
        "🧩 Show that if $\\omega_l$ and $\\omega_r$ are constants, the maximal solution associated to any initial state is global. Is is still true of $\\omega_l$ and $\\omega_r$ are arbitrary continuously differentiable functions of $(x, y, \\theta)$ ?"
      ]
    },
    {
      "cell_type": "markdown",
      "metadata": {
        "id": "3wycNAu8AnKF"
      },
      "source": [
        "**Answer:**"
      ]
    },
    {
      "cell_type": "markdown",
      "metadata": {
        "id": "AtbhB81GAnKG"
      },
      "source": [
        "### Vector Field\n",
        "\n",
        "In the sequel, `omega` is a function that computes the input vector $\\omega := (\\omega_l, \\omega_r)$ given the time $t$ and $(x, y, \\theta)$ (thus, it may depend on the time and/or on the system state if needed). For example:"
      ]
    },
    {
      "cell_type": "code",
      "execution_count": 21,
      "metadata": {
        "id": "zzIZHCGmAnKG"
      },
      "outputs": [],
      "source": [
        "def omega(t, xytheta):\n",
        "    omega_l = 7.5 * math.pi\n",
        "    omega_r = 12.5 * math.pi\n",
        "    return np.array([omega_l, omega_r])"
      ]
    },
    {
      "cell_type": "markdown",
      "metadata": {
        "id": "NLjAwuZZAnKG"
      },
      "source": [
        "🧩 Implement a function `fun(t, xytheta)` that computes $(\\dot{x}, \\dot{y}, \\dot{\\theta})$ given the time $t$, $(x,y,\\theta)$ (and  -- implicitly -- the inputs $\\omega$ computed by the function `omega`)."
      ]
    },
    {
      "cell_type": "code",
      "execution_count": 28,
      "metadata": {
        "id": "UxuZB2DJAnKH"
      },
      "outputs": [],
      "source": [
        "def fun(t, xytheta):\n",
        "  x, y, theta=xytheta\n",
        "  omega_l, omega_r=omega(t, xytheta)\n",
        "  dx= (R/2) * math.cos(theta)*(omega_l+omega_r)\n",
        "  dy= (R/2) * math.sin(theta)*(omega_l+omega_r)\n",
        "  dtheta=(R/D)*(omega_r-omega_l)\n",
        "  return np.array([dx, dy, dtheta])"
      ]
    },
    {
      "cell_type": "markdown",
      "metadata": {
        "id": "daTWh5YuAnKH"
      },
      "source": [
        "### Simulation Setup\n",
        "\n",
        "🧩 Simulate the robot dynamics for 4 seconds when $(x_0, y_0, \\theta_0)(t=0) = (0.0, 0.0, 0.0)$,\n",
        "and the wheels velocities are the constants $\\omega_l = 7.5 \\pi$ and $\\omega_r = 12.5 \\pi$.\n",
        "(Compute the dense outputs.)\n",
        "   "
      ]
    },
    {
      "cell_type": "code",
      "execution_count": 55,
      "metadata": {
        "id": "JX0eOUNBAnKI",
        "colab": {
          "base_uri": "https://localhost:8080/",
          "height": 283
        },
        "outputId": "704d2309-ee02-4f8c-b59d-c9e67e18dbee"
      },
      "outputs": [
        {
          "output_type": "execute_result",
          "data": {
            "text/plain": [
              "[<matplotlib.lines.Line2D at 0x7f193e045d10>]"
            ]
          },
          "metadata": {},
          "execution_count": 55
        },
        {
          "output_type": "display_data",
          "data": {
            "text/plain": [
              "<Figure size 432x288 with 1 Axes>"
            ],
            "image/png": "[encoded data removed]"
          },
          "metadata": {
            "needs_background": "light"
          }
        }
      ],
      "source": [
        "\n",
        "result = solve_ivp(fun=fun, t_span=[0, 4], y0=[0, 0, 0],max_step=1e-1)\n",
        "\n",
        "t = result[\"t\"]\n",
        "x = result[\"y\"][0]\n",
        "y = result[\"y\"][1]\n",
        "plt.plot(x,y)\n",
        "\n"
      ]
    },
    {
      "cell_type": "markdown",
      "metadata": {
        "id": "oVcIECqBAnKI"
      },
      "source": [
        "🧩 Use the simulation results to draw the graphs of $x(t)$, $y(t)$ and $\\theta(t)$."
      ]
    },
    {
      "cell_type": "code",
      "execution_count": null,
      "metadata": {
        "id": "SvmH9JprAnKI"
      },
      "outputs": [],
      "source": [
        "pass"
      ]
    },
    {
      "cell_type": "markdown",
      "metadata": {
        "id": "uN7jv-kcAnKJ"
      },
      "source": [
        "🧩 Use the simulation results to display the robot location every 0.5 second."
      ]
    },
    {
      "cell_type": "code",
      "execution_count": null,
      "metadata": {
        "id": "jzfn42PdAnKJ"
      },
      "outputs": [],
      "source": [
        "pass"
      ]
    },
    {
      "cell_type": "markdown",
      "metadata": {
        "id": "OfCiAlI3AnKK"
      },
      "source": [
        "🧩 What should be the analytical expression of $x(t)$, $y(t)$ and $\\theta(t)$? "
      ]
    },
    {
      "cell_type": "markdown",
      "metadata": {
        "id": "IpxHSEZDAnKK"
      },
      "source": [
        "**Answer:**"
      ]
    },
    {
      "cell_type": "markdown",
      "metadata": {
        "id": "K6LOh8t9AnKL"
      },
      "source": [
        "🧩 Do your experimental results match the theoretical results ? Draw the curves of the simulation error at time $t$ for $x$, $y$ and $\\theta$."
      ]
    },
    {
      "cell_type": "code",
      "execution_count": null,
      "metadata": {
        "id": "eD5KsBv_AnKL"
      },
      "outputs": [],
      "source": [
        "pass"
      ]
    },
    {
      "cell_type": "markdown",
      "metadata": {
        "id": "efOeL6b4AnKL"
      },
      "source": [
        "🧩 If needed, adjust the simulation parameters until this error is uniformly less than $1e-5$ for each variable."
      ]
    },
    {
      "cell_type": "code",
      "execution_count": null,
      "metadata": {
        "id": "P5z2a3rTAnKL"
      },
      "outputs": [],
      "source": [
        "pass"
      ]
    }
  ],
  "metadata": {
    "kernelspec": {
      "display_name": "Python 3 (ipykernel)",
      "language": "python",
      "name": "python3"
    },
    "language_info": {
      "codemirror_mode": {
        "name": "ipython",
        "version": 3
      },
      "file_extension": ".py",
      "mimetype": "text/x-python",
      "name": "python",
      "nbconvert_exporter": "python",
      "pygments_lexer": "ipython3",
      "version": "3.9.10"
    },
    "colab": {
      "name": "Project - Step 1.ipynb",
      "provenance": []
    }
  },
  "nbformat": 4,
  "nbformat_minor": 0
}